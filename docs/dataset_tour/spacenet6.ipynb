{
 "cells": [
  {
   "cell_type": "markdown",
   "id": "16a3f2ed",
   "metadata": {},
   "source": [
    "# SpaceNet6 Dataset\n",
    "\n",
    "## Intro\n",
    "\n",
    "SpaceNet6 is a multi-temporal building footprint extraction dataset using time-series satellite imagery from diverse urban areas. The dataset provides temporal sequences of very high-resolution optical imagery with building footprint annotations, enabling automated building detection across time and monitoring of urban development."
   ]
  },
  {
   "cell_type": "markdown",
   "id": "42618aa5",
   "metadata": {},
   "source": [
    "## Dataset Characteristics\n",
    "\n",
    "- **Modalities**: \n",
    "  - Multi-temporal very high-resolution satellite imagery\n",
    "- **Spatial Resolution**: 0.3m (pan-sharpened)\n",
    "- **Temporal Resolution**: Multi-temporal sequences (4-47 acquisitions per location)\n",
    "- **Spectral Bands**: \n",
    "  - RGB: 3 channels (Red, Green, Blue)\n",
    "- **Image Dimensions**: 450x450 pixels per patch\n",
    "- **Labels**: Building footprint segmentation across time\n",
    "  - Binary segmentation (building vs. non-building)\n",
    "  - Temporal building construction/demolition tracking\n",
    "- **Geographic Distribution**: Rotterdam, Netherlands\n",
    "- **Temporal Coverage**: Multi-year time series (2017-2019)"
   ]
  },
  {
   "cell_type": "markdown",
   "id": "ba6acbc8",
   "metadata": {},
   "source": [
    "## Dataset Setup and Initialization"
   ]
  },
  {
   "cell_type": "code",
   "execution_count": null,
   "id": "063693dd",
   "metadata": {},
   "outputs": [],
   "source": [
    "from pathlib import Path\n",
    "from geobench_v2.datamodules import GeoBenchSpaceNet6DataModule\n",
    "\n",
    "# Setup paths\n",
    "PROJECT_ROOT = Path(\"../../\")\n",
    "\n",
    "# Initialize datamodule\n",
    "datamodule = GeoBenchSpaceNet6DataModule(\n",
    "    img_size=450,\n",
    "    batch_size=2,\n",
    "    num_workers=4,\n",
    "    root=PROJECT_ROOT / \"data\" / \"spacenet6\",\n",
    "    download=True,\n",
    ")\n",
    "datamodule.setup(\"fit\")\n",
    "datamodule.setup(\"test\")\n",
    "\n",
    "print(\"SpaceNet6 datamodule initialized successfully!\")\n",
    "print(f\"Training samples: {len(datamodule.train_dataset)}\")\n",
    "print(f\"Validation samples: {len(datamodule.val_dataset)}\")\n",
    "print(f\"Test samples: {len(datamodule.test_dataset)}\")"
   ]
  },
  {
   "cell_type": "markdown",
   "id": "aca0ce65",
   "metadata": {},
   "source": [
    "## Geographic Distribution Visualization\n",
    "\n",
    "The SpaceNet6 dataset focuses on Rotterdam, Netherlands, providing detailed temporal coverage of urban development:"
   ]
  },
  {
   "cell_type": "code",
   "execution_count": null,
   "id": "952679c2",
   "metadata": {},
   "outputs": [],
   "source": [
    "geo_fig = datamodule.visualize_geospatial_distribution()"
   ]
  },
  {
   "cell_type": "markdown",
   "id": "3ef52c1b",
   "metadata": {},
   "source": [
    "## Sample Data Visualization\n",
    "\n",
    "The dataset provides multi-temporal very high-resolution imagery with building footprint tracking for urban change analysis:"
   ]
  },
  {
   "cell_type": "code",
   "execution_count": null,
   "id": "3356d588",
   "metadata": {},
   "outputs": [],
   "source": [
    "fig, batch = datamodule.visualize_batch()"
   ]
  },
  {
   "cell_type": "markdown",
   "id": "50ced765",
   "metadata": {},
   "source": [
    "## GeoBenchV2 Processing Pipeline\n",
    "\n",
    "### Preprocessing Steps\n",
    "\n",
    "1. **Patch Generation**:\n",
    "   - The original 900x900px tiles were split into 4 450x450px patches\n",
    "\n",
    "2. **Split Generation**:\n",
    "   - Use a checkerboard style split to create train/val/test split"
   ]
  },
  {
   "cell_type": "markdown",
   "id": "035813a0",
   "metadata": {},
   "source": [
    "## References\n",
    "\n",
    "1. Shermeyer, J., Hogan, D., Brown, J., Van Etten, A., Weir, N., Paczan, F., ... & Lewis, A. (2020). SpaceNet 6: Multi-sensor all weather mapping dataset. *Proceedings of the IEEE/CVF Conference on Computer Vision and Pattern Recognition Workshops*, 196-197."
   ]
  }
 ],
 "metadata": {
  "language_info": {
   "name": "python"
  }
 },
 "nbformat": 4,
 "nbformat_minor": 5
}
