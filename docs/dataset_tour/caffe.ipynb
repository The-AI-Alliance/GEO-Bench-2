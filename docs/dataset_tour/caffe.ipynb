{
 "cells": [
  {
   "cell_type": "markdown",
   "id": "0fb876f5",
   "metadata": {},
   "source": [
    "# CaFFe Dataset (Calving Fronts and where to Find them)\n",
    "\n",
    "## Intro\n",
    "\n",
    "CaFFe (Calving Fronts and where to Find them) [Gourmelon et al. 2022](https://doi.pangaea.de/10.1594/PANGAEA.940950) is a dataset designed for glacier calving front detection and land cover classification in polar regions. The dataset contains SAR (Synthetic Aperture Radar) imagery with corresponding zone masks that classify different surface types including glaciers, rock, ocean/ice melange, and undefined areas. This dataset is crucial for monitoring glacier retreat and calving dynamics in the context of climate change research."
   ]
  },
  {
   "cell_type": "markdown",
   "id": "0d3a8453",
   "metadata": {},
   "source": [
    "## Dataset Characteristics\n",
    "\n",
    "- **Modalities**: \n",
    "  - Sentinel-1 SAR imagery (single polarization)\n",
    "- **Spatial Resolution**: Variable (typically 10-20m ground sample distance)\n",
    "- **Temporal Resolution**: Single acquisition per location\n",
    "- **Spectral Bands**: \n",
    "  - SAR: Single band grayscale intensity\n",
    "- **Image Dimensions**: 512x512 pixels per patch\n",
    "- **Labels**: 4 land cover classes (zone segmentation masks)\n",
    "  - Class 0: N/A / Undefined\n",
    "  - Class 1: Rock\n",
    "  - Class 2: Glacier\n",
    "  - Class 3: Ocean/Ice melange\n",
    "- **Geographic Distribution**: Arctic and Antarctic regions (multiple glacier sites)\n",
    "- **Temporal Coverage**: Various acquisition dates across multiple years"
   ]
  },
  {
   "cell_type": "markdown",
   "id": "71004485",
   "metadata": {},
   "source": [
    "## Dataset Setup and Initialization"
   ]
  },
  {
   "cell_type": "code",
   "execution_count": null,
   "id": "59ba92df",
   "metadata": {},
   "outputs": [],
   "source": [
    "from pathlib import Path\n",
    "from geobench_v2.datamodules import GeoBenchCaffeDataModule\n",
    "\n",
    "# Setup paths\n",
    "PROJECT_ROOT = Path(\"../../\")\n",
    "\n",
    "# Initialize datamodule\n",
    "datamodule = GeoBenchCaffeDataModule(\n",
    "    img_size=512,\n",
    "    batch_size=16,\n",
    "    num_workers=4,\n",
    "    root=PROJECT_ROOT / \"data\" / \"caffe\",\n",
    "    download=True\n",
    ")\n",
    "datamodule.setup(\"fit\")\n",
    "datamodule.setup(\"test\")\n",
    "\n",
    "print(\"CaFFe datamodule initialized successfully!\")\n",
    "print(f\"Training samples: {len(datamodule.train_dataset)}\")\n",
    "print(f\"Validation samples: {len(datamodule.val_dataset)}\")\n",
    "print(f\"Test samples: {len(datamodule.test_dataset)}\")"
   ]
  },
  {
   "cell_type": "markdown",
   "id": "30a7999d",
   "metadata": {},
   "source": [
    "## Geographic Distribution Visualization"
   ]
  },
  {
   "cell_type": "code",
   "execution_count": null,
   "id": "cd4bda36",
   "metadata": {},
   "outputs": [],
   "source": [
    "geo_fig = datamodule.visualize_geospatial_distribution()"
   ]
  },
  {
   "cell_type": "markdown",
   "id": "f95d6668",
   "metadata": {},
   "source": [
    "## Sample Data Visualization\n",
    "\n",
    "The dataset provides SAR imagery with 4-class zone segmentation masks for glacier calving front detection and polar land cover classification:"
   ]
  },
  {
   "cell_type": "code",
   "execution_count": null,
   "id": "8a2fc90a",
   "metadata": {},
   "outputs": [],
   "source": [
    "fig, batch = datamodule.visualize_batch()"
   ]
  },
  {
   "cell_type": "markdown",
   "id": "0b8567a5",
   "metadata": {},
   "source": [
    "\n",
    "\n",
    "## GeoBenchV2 Processing Pipeline\n",
    "\n",
    "### Preprocessing Steps\n",
    "\n",
    "The original dataset was released as a set of single channel gray scale PNG files of the underyling SAR imagery. Additionally, there is a metadata csv file from which geographic coordinates could be inferred. \n",
    "\n",
    "1. **Patch Generation**:\n",
    "   - Image files \n",
    "   - Generated 512x512 pixel patches from original PNG images\n",
    "   - Applied different overlap strategies per split (training: 0%, validation/test: 25%)\n",
    "   - Calculated patch coordinates based on image bounds and metadata\n",
    "\n",
    "2. **Split Generation**:\n",
    "   - Used original train/test splits from source dataset\n",
    "   - Created validation split by randomly sampling 10% from training data (random_state=1)\n",
    "   - Applied geographic filtering: removed Southern Hemisphere samples from test set\n",
    "3. **Dataset Subsampling**:\n",
    "    - The final version consists of\n",
    "        - 4,000 training samples\n",
    "        - 1,000 validation samples\n",
    "        - 2,000 test samples\n",
    "\n",
    "### Label Processing\n",
    "- **Zone Mask Remapping**: Converted original mask values to sequential class indices:\n",
    "  - 0 → 0 (N/A)\n",
    "  - 64 → 1 (Rock)\n",
    "  - 127 → 2 (Glacier)\n",
    "  - 254 → 3 (Ocean/Ice melange)"
   ]
  },
  {
   "cell_type": "markdown",
   "id": "6a2d5d8f",
   "metadata": {},
   "source": [
    "## References\n",
    "\n",
    "1. Gourmelon, Nora; Seehaus, Thorsten; Braun, Matthias Holger; Maier, Andreas; Christlein, Vincent (2022): CaFFe (CAlving Fronts and where to Find thEm: a benchmark dataset and methodology for automatic glacier calving front extraction from sar imagery) [dataset]. PANGAEA, https://doi.org/10.1594/PANGAEA.940950"
   ]
  }
 ],
 "metadata": {
  "language_info": {
   "name": "python"
  }
 },
 "nbformat": 4,
 "nbformat_minor": 5
}
