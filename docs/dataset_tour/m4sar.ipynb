{
 "cells": [
  {
   "cell_type": "markdown",
   "id": "dfbe3574",
   "metadata": {},
   "source": [
    "# M4SAR Dataset\n",
    "\n",
    "## Intro\n",
    "\n",
    "M4SAR is a comprehensive dataset for multi-class ship classification using Synthetic Aperture Radar (SAR) imagery. The dataset provides high-resolution SAR observations of maritime vessels across different sea states and weather conditions, enabling automated ship detection and classification for maritime surveillance, port monitoring, and naval applications. It addresses the critical challenge of all-weather vessel monitoring using radar remote sensing."
   ]
  },
  {
   "cell_type": "markdown",
   "id": "7cd01d8f",
   "metadata": {},
   "source": [
    "## Dataset Characteristics\n",
    "\n",
    "- **Modalities**: \n",
    "  - Synthetic Aperture Radar (SAR) imagery\n",
    "- **Spatial Resolution**: 3m (high-resolution SAR)\n",
    "- **Temporal Resolution**: Single acquisition per ship detection\n",
    "- **Spectral Bands**: \n",
    "  - SAR: Single channel (C-band backscatter)\n",
    "- **Image Dimensions**: Variable sizes (ship-centered patches)\n",
    "- **Labels**: Multi-class ship classification\n",
    "  - Cargo ships, Tankers, Fishing vessels, Passenger ships\n",
    "  - Military vessels, Pleasure craft, and other vessel types\n",
    "- **Geographic Distribution**: Global maritime coverage\n",
    "- **Temporal Coverage**: Multi-year SAR acquisitions\n",
    "- **Weather Independence**: All-weather capability of SAR sensors"
   ]
  },
  {
   "cell_type": "markdown",
   "id": "c1e1eb6c",
   "metadata": {},
   "source": [
    "## Dataset Setup and Initialization"
   ]
  },
  {
   "cell_type": "code",
   "execution_count": null,
   "id": "6dde1572",
   "metadata": {},
   "outputs": [],
   "source": [
    "from pathlib import Path\n",
    "from geobench_v2.datamodules import GeoBenchM4SARDataModule\n",
    "\n",
    "# Setup paths\n",
    "PROJECT_ROOT = Path(\"../../\")\n",
    "\n",
    "# Initialize datamodule\n",
    "datamodule = GeoBenchM4SARDataModule(\n",
    "    img_size=128,\n",
    "    batch_size=16,\n",
    "    num_workers=4,\n",
    "    root=PROJECT_ROOT / \"data\" / \"m4sar\",\n",
    "    download=True\n",
    ")\n",
    "datamodule.setup(\"fit\")\n",
    "datamodule.setup(\"test\")\n",
    "\n",
    "print(\"M4SAR datamodule initialized successfully!\")\n",
    "print(f\"Training samples: {len(datamodule.train_dataset)}\")\n",
    "print(f\"Validation samples: {len(datamodule.val_dataset)}\")\n",
    "print(f\"Test samples: {len(datamodule.test_dataset)}\")"
   ]
  },
  {
   "cell_type": "markdown",
   "id": "fec60c37",
   "metadata": {},
   "source": [
    "## Geographic Distribution Visualization\n",
    "\n",
    "The M4SAR dataset provides global maritime coverage, representing diverse shipping routes and maritime activities:"
   ]
  },
  {
   "cell_type": "code",
   "execution_count": null,
   "id": "c37cead6",
   "metadata": {},
   "outputs": [],
   "source": [
    "geo_fig = datamodule.visualize_geospatial_distribution()"
   ]
  },
  {
   "cell_type": "markdown",
   "id": "d76d2e05",
   "metadata": {},
   "source": [
    "## Sample Data Visualization\n",
    "\n",
    "The dataset provides high-resolution SAR imagery with detailed ship classification for maritime surveillance applications:"
   ]
  },
  {
   "cell_type": "code",
   "execution_count": null,
   "id": "5fb9f736",
   "metadata": {},
   "outputs": [],
   "source": [
    "fig, batch = datamodule.visualize_batch()"
   ]
  },
  {
   "cell_type": "markdown",
   "id": "5e168cc5",
   "metadata": {},
   "source": [
    "## GeoBenchV2 Processing Pipeline\n",
    "\n",
    "### Preprocessing Steps\n",
    "\n",
    "1. **SAR Image Processing**:\n",
    "   - Applied radiometric calibration for consistent backscatter values\n",
    "   - Implemented speckle filtering while preserving ship signatures\n",
    "   - Generated ship-centered patches with consistent sizing\n",
    "\n",
    "2. **Ship Detection and Extraction**:\n",
    "   - Applied Constant False Alarm Rate (CFAR) detection algorithms\n",
    "   - Extracted individual ship targets with surrounding sea clutter\n",
    "   - Maintained aspect ratio and scale consistency across samples\n",
    "\n",
    "3. **Quality Control and Filtering**:\n",
    "   - Filtered detections with poor signal-to-clutter ratio\n",
    "   - Applied expert validation for ship classification accuracy\n",
    "   - Maintained balance across different vessel types\n",
    "\n",
    "4. **Split Generation**:\n",
    "   - Applied temporal and geographic splitting to prevent data leakage\n",
    "   - Used maritime region-based clustering for independence\n",
    "   - Maintained vessel type diversity across splits\n",
    "\n",
    "### Label Processing\n",
    "- **Multi-Class Classification**: Comprehensive vessel type classification for maritime surveillance\n",
    "- **Expert Validation**: Ship classifications validated by maritime domain experts\n",
    "- **AIS Integration**: Labels cross-validated with Automatic Identification System (AIS) data where available"
   ]
  },
  {
   "cell_type": "markdown",
   "id": "889f8f7d",
   "metadata": {},
   "source": [
    "## References\n",
    "\n",
    "1. Schwegmann, C. P., Kleynhans, W., Salmon, B. P., Mdakane, L. W., & Meyer, R. G. (2016). Very deep learning for ship discrimination in Synthetic Aperture Radar imagery. *IEEE International Geoscience and Remote Sensing Symposium (IGARSS)*, 104-107.\n",
    "\n",
    "2. SAR Ship Detection: Crisp, D. J. (2004). The state-of-the-art in ship detection in synthetic aperture radar imagery. *Defence Science and Technology Organisation*, Report DSTO-RR-0272.\n",
    "\n",
    "3. Maritime Surveillance: Greidanus, H., Clayton, P., Indregard, M., Staples, G., Suzuki, N., Kojima, S., ... & Melief, A. (2013). Benchmarking operational SAR ship detection. *IEEE International Geoscience and Remote Sensing Symposium (IGARSS)*, 4215-4218.\n",
    "\n",
    "4. SAR Image Processing: Moreira, A., Prats-Iraola, P., Younis, M., Krieger, G., Hajnsek, I., & Papathanassiou, K. P. (2013). A tutorial on synthetic aperture radar. *IEEE Geoscience and Remote Sensing Magazine*, 1(1), 6-43."
   ]
  }
 ],
 "metadata": {
  "language_info": {
   "name": "python"
  }
 },
 "nbformat": 4,
 "nbformat_minor": 5
}
