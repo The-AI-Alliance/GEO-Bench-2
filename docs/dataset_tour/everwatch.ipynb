{
 "cells": [
  {
   "cell_type": "markdown",
   "id": "cbaf86f6",
   "metadata": {},
   "source": [
    "# EverWatch Bird Object Detection Dataset\n",
    "\n",
    "## Intro\n",
    "\n",
    "EverWatch [(Garner et al. 2024)](https://zenodo.org/records/11165946) is a dataset for aerial bird detection in high-resolution wildlife monitoring imagery. The dataset focuses on automated detection and monitoring of bird species using aerial drone imagery. It addresses the critical challenge of wildlife conservation through automated aerial monitoring, providing precise bird detection capabilities for ecological research and conservation efforts."
   ]
  },
  {
   "cell_type": "markdown",
   "id": "67297a77",
   "metadata": {},
   "source": [
    "## Dataset Characteristics\n",
    "\n",
    "- **Modalities**: \n",
    "  - High-resolution RGB aerial imagery from drones\n",
    "- **Spatial Resolution**: Sub-meter resolution (typical 0.1-0.5m/pixel)\n",
    "- **Temporal Resolution**: Single acquisitions per location\n",
    "- **Spectral Bands**: \n",
    "  - RGB: 3 channels (Red, Green, Blue)\n",
    "- **Image Dimensions**: Variable sizes (typically 1000-4000 pixels)\n",
    "- **Labels**: Bird object detection bounding boxes\n",
    "  - Annotations for seven bird species\n",
    "- **Geographic Distribution**: Locations across the Everglades, Florida, USA"
   ]
  },
  {
   "cell_type": "markdown",
   "id": "b7e55339",
   "metadata": {},
   "source": [
    "## Dataset Setup and Initialization"
   ]
  },
  {
   "cell_type": "code",
   "execution_count": null,
   "id": "37c244b0",
   "metadata": {},
   "outputs": [],
   "source": [
    "from pathlib import Path\n",
    "\n",
    "from geobench_v2.datamodules import GeoBenchEverWatchDataModule\n",
    "\n",
    "# Setup paths\n",
    "PROJECT_ROOT = Path(\"../../\")\n",
    "\n",
    "# Initialize datamodule\n",
    "datamodule = GeoBenchEverWatchDataModule(\n",
    "    img_size=512,\n",
    "    batch_size=8,\n",
    "    num_workers=4,\n",
    "    root=PROJECT_ROOT / \"data\" / \"everwatch\",\n",
    "    download=True,\n",
    ")\n",
    "datamodule.setup(\"fit\")\n",
    "datamodule.setup(\"test\")\n",
    "\n",
    "print(\"EverWatch datamodule initialized successfully!\")\n",
    "print(f\"Training samples: {len(datamodule.train_dataset)}\")\n",
    "print(f\"Validation samples: {len(datamodule.val_dataset)}\")\n",
    "print(f\"Test samples: {len(datamodule.test_dataset)}\")"
   ]
  },
  {
   "cell_type": "markdown",
   "id": "95ecd550",
   "metadata": {},
   "source": [
    "## Geographic Distribution Visualization\n",
    "\n",
    "The EverWatch dataset covers diverse wildlife monitoring sites, providing comprehensive coverage for bird detection across different ecosystems:"
   ]
  },
  {
   "cell_type": "code",
   "execution_count": null,
   "id": "b08e72f1",
   "metadata": {},
   "outputs": [],
   "source": [
    "geo_fig = datamodule.visualize_geospatial_distribution()"
   ]
  },
  {
   "cell_type": "markdown",
   "id": "15475596",
   "metadata": {},
   "source": [
    "## Sample Data Visualization\n",
    "\n",
    "The dataset provides high-resolution aerial imagery with precise bird detection annotations for automated wildlife monitoring:"
   ]
  },
  {
   "cell_type": "code",
   "execution_count": null,
   "id": "bb94ec72",
   "metadata": {},
   "outputs": [],
   "source": [
    "fig, batch = datamodule.visualize_batch()"
   ]
  },
  {
   "cell_type": "markdown",
   "id": "047b3c12",
   "metadata": {},
   "source": [
    "## GeoBenchV2 Processing Pipeline\n",
    "\n",
    "### Preprocessing Steps\n",
    "\n",
    "1. **Image Processing**:\n",
    "   - Resize variable-size drone imagery to consistent patches of size 512x512\n",
    "\n",
    "2. **Split Generation**:\n",
    "   - Use original train/test split from dataset, create a validation set from splitting on different colony locations (which is metadata info available for some but not all images)"
   ]
  },
  {
   "cell_type": "markdown",
   "id": "5a96df54",
   "metadata": {},
   "source": [
    "## References\n",
    "\n",
    "1. Garner, Lindsey, Ben Weinstein, Michael Rickershauser, Melissa Baldino, Holly Coates, Mary Commins, Tracey Faber, et al. “Everwatch Benchmark: Training and Evaluation Data for Detection and Species Classification of Everglades Wading Birds from Airborne Imagery”. Zenodo, May 13, 2024. https://doi.org/10.5281/zenodo.11165946."
   ]
  }
 ],
 "metadata": {
  "language_info": {
   "name": "python"
  }
 },
 "nbformat": 4,
 "nbformat_minor": 5
}
