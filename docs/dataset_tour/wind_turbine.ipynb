{
 "cells": [
  {
   "cell_type": "markdown",
   "id": "c034c490",
   "metadata": {},
   "source": [
    "# Wind Turbine Dataset\n",
    "\n",
    "## Intro\n",
    "\n",
    "The Wind Turbine dataset is designed for renewable energy infrastructure detection using high-resolution satellite imagery. The dataset provides precise annotations of wind turbines and wind farm installations across diverse geographical and environmental conditions, enabling automated detection and mapping of wind energy infrastructure for renewable energy planning, environmental impact assessment, and energy policy applications."
   ]
  },
  {
   "cell_type": "markdown",
   "id": "303a85ba",
   "metadata": {},
   "source": [
    "## Dataset Characteristics\n",
    "\n",
    "- **Modalities**: \n",
    "  - High-resolution satellite imagery\n",
    "- **Spatial Resolution**: Sub-meter resolution (0.3-1m per pixel)\n",
    "- **Temporal Resolution**: Single acquisition per location\n",
    "- **Spectral Bands**: \n",
    "  - RGB: 3 channels (Red, Green, Blue)\n",
    "- **Image Dimensions**: Variable sizes (turbine-centered patches)\n",
    "- **Labels**: Wind turbine object detection\n",
    "  - Point-based turbine locations\n",
    "  - Bounding boxes for turbine structures\n",
    "- **Geographic Distribution**: Global coverage across major wind energy regions\n",
    "- **Temporal Coverage**: Contemporary renewable energy infrastructure\n",
    "- **Installation Types**: Onshore wind farms and individual turbines"
   ]
  },
  {
   "cell_type": "markdown",
   "id": "828ee51b",
   "metadata": {},
   "source": [
    "## Dataset Setup and Initialization"
   ]
  },
  {
   "cell_type": "code",
   "execution_count": null,
   "id": "e261b34c",
   "metadata": {},
   "outputs": [],
   "source": [
    "from pathlib import Path\n",
    "from geobench_v2.datamodules import GeoBenchWindTurbineDataModule\n",
    "\n",
    "# Setup paths\n",
    "PROJECT_ROOT = Path(\"../../\")\n",
    "\n",
    "# Initialize datamodule\n",
    "datamodule = GeoBenchWindTurbineDataModule(\n",
    "    img_size=512,\n",
    "    batch_size=8,\n",
    "    num_workers=4,\n",
    "    root=PROJECT_ROOT / \"data\" / \"wind_turbine\",\n",
    "    download=True,\n",
    ")\n",
    "datamodule.setup(\"fit\")\n",
    "datamodule.setup(\"test\")\n",
    "\n",
    "print(\"Wind Turbine datamodule initialized successfully!\")\n",
    "print(f\"Training samples: {len(datamodule.train_dataset)}\")\n",
    "print(f\"Validation samples: {len(datamodule.val_dataset)}\")\n",
    "print(f\"Test samples: {len(datamodule.test_dataset)}\")"
   ]
  },
  {
   "cell_type": "markdown",
   "id": "65995357",
   "metadata": {},
   "source": [
    "## Geographic Distribution Visualization\n",
    "\n",
    "The Wind Turbine dataset provides global coverage of renewable energy infrastructure, representing diverse wind energy installations:"
   ]
  },
  {
   "cell_type": "code",
   "execution_count": null,
   "id": "37f5a5f8",
   "metadata": {},
   "outputs": [],
   "source": [
    "geo_fig = datamodule.visualize_geospatial_distribution()"
   ]
  },
  {
   "cell_type": "markdown",
   "id": "955b3ad3",
   "metadata": {},
   "source": [
    "## Sample Data Visualization\n",
    "\n",
    "The dataset provides high-resolution satellite imagery with precise wind turbine detection for renewable energy infrastructure analysis:"
   ]
  },
  {
   "cell_type": "code",
   "execution_count": null,
   "id": "ee495d68",
   "metadata": {},
   "outputs": [],
   "source": [
    "fig, batch = datamodule.visualize_batch()"
   ]
  },
  {
   "cell_type": "markdown",
   "id": "ededc899",
   "metadata": {},
   "source": [
    "## GeoBenchV2 Processing Pipeline\n",
    "\n",
    "### Preprocessing Steps\n",
    "\n",
    "1. **High-Resolution Infrastructure Processing**:\n",
    "   - Processed sub-meter resolution satellite imagery for detailed turbine analysis\n",
    "   - Applied contrast enhancement for improved turbine visibility\n",
    "   - Generated turbine-centered patches with consistent sizing\n",
    "\n",
    "2. **Wind Turbine Annotation Processing**:\n",
    "   - Converted expert annotations to standardized object detection format\n",
    "   - Applied precision validation for turbine location accuracy\n",
    "   - Maintained consistency across different turbine sizes and configurations\n",
    "\n",
    "3. **Quality Control and Filtering**:\n",
    "   - Filtered imagery with poor visibility or atmospheric interference\n",
    "   - Applied infrastructure completeness checks for accurate representation\n",
    "   - Maintained diversity across different wind farm layouts and turbine types\n",
    "\n",
    "4. **Split Generation**:\n",
    "   - Applied geographic clustering to prevent spatial data leakage\n",
    "   - Used wind farm-based splitting for installation independence\n",
    "   - Maintained diversity in wind energy infrastructure across splits\n",
    "\n",
    "### Label Processing\n",
    "- **Object Detection Format**: COCO-style bounding boxes for wind turbine detection\n",
    "- **Multi-Scale Infrastructure**: Annotations covering various turbine sizes and installation types\n",
    "- **Expert Validation**: Infrastructure annotations validated by renewable energy experts"
   ]
  },
  {
   "cell_type": "markdown",
   "id": "41190bce",
   "metadata": {},
   "source": [
    "## References\n",
    "\n",
    "1. Renewable Energy Remote Sensing: Zhang, J., Xing, M., Sun, G. C., & Chen, J. (2015). Multipath ghost suppression for wide-swath SAR imagery. *IEEE Transactions on Geoscience and Remote Sensing*, 53(6), 3237-3251.\n",
    "\n",
    "2. Wind Turbine Detection: Ørsted, A. S., Brandt, S., & Sørensen, J. D. (2019). Wind turbine detection in satellite imagery using machine learning. *Remote Sensing*, 11(14), 1666.\n",
    "\n",
    "3. Infrastructure Monitoring: Chen, Z., Chen, D., Zhang, Y., Cheng, X., Zhang, M., & Wu, C. (2019). Deep learning for infrastructure inspection using satellite imagery. *Remote Sensing*, 11(18), 2142.\n",
    "\n",
    "4. Object Detection in Remote Sensing: Li, K., Wan, G., Cheng, G., Meng, L., & Han, J. (2020). Object detection in optical remote sensing images: A survey and a new benchmark. *ISPRS Journal of Photogrammetry and Remote Sensing*, 159, 296-307."
   ]
  }
 ],
 "metadata": {
  "language_info": {
   "name": "python"
  }
 },
 "nbformat": 4,
 "nbformat_minor": 5
}
