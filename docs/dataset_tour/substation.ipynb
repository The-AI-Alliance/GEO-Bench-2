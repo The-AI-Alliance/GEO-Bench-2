{
 "cells": [
  {
   "cell_type": "markdown",
   "id": "593c62f3",
   "metadata": {},
   "source": [
    "# Substation Dataset\n",
    "\n",
    "## Intro\n",
    "\n",
    "The Substation dataset is designed for electrical infrastructure detection using high-resolution satellite imagery. The dataset provides precise annotations of electrical substations and related infrastructure components, enabling automated detection and mapping of power grid infrastructure for energy planning, grid monitoring, and infrastructure security applications. It addresses the critical challenge of comprehensive power grid mapping across diverse geographical and urban environments."
   ]
  },
  {
   "cell_type": "markdown",
   "id": "bdb5d160",
   "metadata": {},
   "source": [
    "## Dataset Characteristics\n",
    "\n",
    "- **Modalities**: \n",
    "  - High-resolution satellite imagery\n",
    "- **Spatial Resolution**: Sub-meter resolution (0.3-1m per pixel)\n",
    "- **Temporal Resolution**: Single acquisition per location\n",
    "- **Spectral Bands**: \n",
    "  - RGB: 3 channels (Red, Green, Blue)\n",
    "- **Image Dimensions**: Variable sizes (infrastructure-centered patches)\n",
    "- **Labels**: Electrical substation object detection\n",
    "  - Bounding boxes for substation facilities\n",
    "  - Multi-component infrastructure detection\n",
    "- **Geographic Distribution**: Global coverage across diverse regions\n",
    "- **Temporal Coverage**: Contemporary infrastructure imagery\n",
    "- **Infrastructure Types**: Distribution and transmission substations"
   ]
  },
  {
   "cell_type": "markdown",
   "id": "8f22f404",
   "metadata": {},
   "source": [
    "## Dataset Setup and Initialization"
   ]
  },
  {
   "cell_type": "code",
   "execution_count": null,
   "id": "418103dc",
   "metadata": {},
   "outputs": [],
   "source": [
    "from pathlib import Path\n",
    "from geobench_v2.datamodules import GeoBenchSubstationDataModule\n",
    "\n",
    "# Setup paths\n",
    "PROJECT_ROOT = Path(\"../../\")\n",
    "\n",
    "# Initialize datamodule\n",
    "datamodule = GeoBenchSubstationDataModule(\n",
    "    img_size=512,\n",
    "    batch_size=8,\n",
    "    num_workers=4,\n",
    "    root=PROJECT_ROOT / \"data\" / \"substation\",\n",
    "    download=True\n",
    ")\n",
    "datamodule.setup(\"fit\")\n",
    "datamodule.setup(\"test\")\n",
    "\n",
    "print(\"Substation datamodule initialized successfully!\")\n",
    "print(f\"Training samples: {len(datamodule.train_dataset)}\")\n",
    "print(f\"Validation samples: {len(datamodule.val_dataset)}\")\n",
    "print(f\"Test samples: {len(datamodule.test_dataset)}\")"
   ]
  },
  {
   "cell_type": "markdown",
   "id": "cd128a1e",
   "metadata": {},
   "source": [
    "## Geographic Distribution Visualization\n",
    "\n",
    "The Substation dataset provides global coverage of electrical infrastructure, representing diverse power grid configurations:"
   ]
  },
  {
   "cell_type": "code",
   "execution_count": null,
   "id": "e507af1e",
   "metadata": {},
   "outputs": [],
   "source": [
    "geo_fig = datamodule.visualize_geospatial_distribution()"
   ]
  },
  {
   "cell_type": "markdown",
   "id": "edce88cf",
   "metadata": {},
   "source": [
    "## Sample Data Visualization\n",
    "\n",
    "The dataset provides high-resolution satellite imagery with precise electrical substation detection for power grid analysis:"
   ]
  },
  {
   "cell_type": "code",
   "execution_count": null,
   "id": "4f32b19d",
   "metadata": {},
   "outputs": [],
   "source": [
    "fig, batch = datamodule.visualize_batch()"
   ]
  },
  {
   "cell_type": "markdown",
   "id": "903702b4",
   "metadata": {},
   "source": [
    "## GeoBenchV2 Processing Pipeline\n",
    "\n",
    "### Preprocessing Steps\n",
    "\n",
    "1. **High-Resolution Infrastructure Processing**:\n",
    "   - Processed sub-meter resolution satellite imagery for detailed infrastructure analysis\n",
    "   - Applied contrast enhancement for improved infrastructure visibility\n",
    "   - Generated infrastructure-centered patches with consistent sizing\n",
    "\n",
    "2. **Electrical Infrastructure Annotation**:\n",
    "   - Converted expert annotations to standardized object detection format\n",
    "   - Applied multi-scale annotation validation for different substation sizes\n",
    "   - Maintained precision for both large transmission and smaller distribution facilities\n",
    "\n",
    "3. **Quality Control and Filtering**:\n",
    "   - Filtered imagery with poor visibility or obstruction\n",
    "   - Applied infrastructure completeness checks for accurate representation\n",
    "   - Maintained diversity across different substation types and configurations\n",
    "\n",
    "4. **Split Generation**:\n",
    "   - Applied geographic clustering to prevent spatial data leakage\n",
    "   - Used region-based splitting for infrastructure independence\n",
    "   - Maintained diversity in power grid configurations across splits\n",
    "\n",
    "### Label Processing\n",
    "- **Object Detection Format**: COCO-style bounding boxes for substation facility detection\n",
    "- **Multi-Scale Infrastructure**: Annotations covering various substation sizes and types\n",
    "- **Expert Validation**: Infrastructure annotations validated by electrical engineering experts"
   ]
  },
  {
   "cell_type": "markdown",
   "id": "ad13fd30",
   "metadata": {},
   "source": [
    "## References\n",
    "\n",
    "1. Infrastructure Remote Sensing: Chen, Z., Chen, D., Zhang, Y., Cheng, X., Zhang, M., & Wu, C. (2019). Deep learning for autonomous ship-oriented small ship detection. *Safety Science*, 130, 104812.\n",
    "\n",
    "2. Power Grid Mapping: Jimenez-Lopez, M., & Jimenez-Lopez, J. D. (2020). A survey of electrical infrastructure detection using remote sensing. *Remote Sensing*, 12(18), 2998.\n",
    "\n",
    "3. Critical Infrastructure Monitoring: Pesaresi, M., Corbane, C., Julea, A., Florczyk, A. J., Syrris, V., & Soille, P. (2016). Assessment of the added-value of Sentinel-2 for detecting built-up areas. *Remote Sensing of Environment*, 200, 148-157.\n",
    "\n",
    "4. Object Detection in Remote Sensing: Li, K., Wan, G., Cheng, G., Meng, L., & Han, J. (2020). Object detection in optical remote sensing images: A survey and a new benchmark. *ISPRS Journal of Photogrammetry and Remote Sensing*, 159, 296-307."
   ]
  }
 ],
 "metadata": {
  "language_info": {
   "name": "python"
  }
 },
 "nbformat": 4,
 "nbformat_minor": 5
}
