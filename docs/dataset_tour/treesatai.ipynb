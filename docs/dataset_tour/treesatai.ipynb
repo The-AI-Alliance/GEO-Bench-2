{
 "cells": [
  {
   "cell_type": "markdown",
   "id": "e28d8f69",
   "metadata": {},
   "source": [
    "# TreeSatAI Time Series Dataset\n",
    "\n",
    "## Intro\n",
    "\n",
    "TreeSatAI is a comprehensive dataset for forest species classification using multi-temporal Sentinel-2 satellite imagery. The dataset provides time series of optical imagery with detailed forest inventory annotations, enabling automated tree species identification and forest monitoring across diverse European forest ecosystems. It addresses the critical challenge of large-scale forest species mapping for biodiversity assessment, forest management, and ecological monitoring applications."
   ]
  },
  {
   "cell_type": "markdown",
   "id": "ed7419c8",
   "metadata": {},
   "source": [
    "## Dataset Characteristics\n",
    "\n",
    "- **Modalities**: \n",
    "  - Multi-temporal Sentinel-2 optical imagery\n",
    "- **Spatial Resolution**: 10m (resampled from native Sentinel-2 bands)\n",
    "- **Temporal Resolution**: Monthly time series across growing seasons\n",
    "- **Spectral Bands**: \n",
    "  - S2: 10 bands (B02, B03, B04, B05, B06, B07, B08, B8A, B11, B12)\n",
    "- **Image Dimensions**: 32x32 pixels per patch (forest stand level)\n",
    "- **Labels**: Tree species classification\n",
    "  - 13 major European tree species\n",
    "  - Including deciduous and coniferous species\n",
    "- **Geographic Distribution**: France (comprehensive forest coverage)\n",
    "- **Temporal Coverage**: Multi-year time series (2018-2020)\n",
    "- **Forest Types**: Diverse European forest ecosystems"
   ]
  },
  {
   "cell_type": "markdown",
   "id": "6137f142",
   "metadata": {},
   "source": [
    "## Dataset Setup and Initialization"
   ]
  },
  {
   "cell_type": "code",
   "execution_count": null,
   "id": "07d2d3c9",
   "metadata": {},
   "outputs": [],
   "source": [
    "from pathlib import Path\n",
    "from geobench_v2.datamodules import GeoBenchTreeSatAIDataModule\n",
    "\n",
    "# Setup paths\n",
    "PROJECT_ROOT = Path(\"../../\")\n",
    "\n",
    "# Initialize datamodule\n",
    "datamodule = GeoBenchTreeSatAIDataModule(\n",
    "    img_size=32,\n",
    "    batch_size=32,\n",
    "    num_workers=4,\n",
    "    root=PROJECT_ROOT / \"data\" / \"treesatai\",\n",
    "    download=True\n",
    ")\n",
    "datamodule.setup(\"fit\")\n",
    "datamodule.setup(\"test\")\n",
    "\n",
    "print(\"TreeSatAI datamodule initialized successfully!\")\n",
    "print(f\"Training samples: {len(datamodule.train_dataset)}\")\n",
    "print(f\"Validation samples: {len(datamodule.val_dataset)}\")\n",
    "print(f\"Test samples: {len(datamodule.test_dataset)}\")"
   ]
  },
  {
   "cell_type": "markdown",
   "id": "63a07838",
   "metadata": {},
   "source": [
    "## Geographic Distribution Visualization\n",
    "\n",
    "The TreeSatAI dataset covers diverse French forest ecosystems, representing the major European forest types and species distributions:"
   ]
  },
  {
   "cell_type": "code",
   "execution_count": null,
   "id": "1a0124b2",
   "metadata": {},
   "outputs": [],
   "source": [
    "geo_fig = datamodule.visualize_geospatial_distribution()"
   ]
  },
  {
   "cell_type": "markdown",
   "id": "a03b9ce4",
   "metadata": {},
   "source": [
    "## Sample Data Visualization\n",
    "\n",
    "The dataset provides multi-temporal Sentinel-2 imagery with detailed tree species classification for forest monitoring:"
   ]
  },
  {
   "cell_type": "code",
   "execution_count": null,
   "id": "47c8d1be",
   "metadata": {},
   "outputs": [],
   "source": [
    "fig, batch = datamodule.visualize_batch()"
   ]
  },
  {
   "cell_type": "markdown",
   "id": "6f1a5b19",
   "metadata": {},
   "source": [
    "## GeoBenchV2 Processing Pipeline\n",
    "\n",
    "### Preprocessing Steps\n",
    "\n",
    "1. **Multi-Temporal Forest Analysis**:\n",
    "   - Created monthly time series from Sentinel-2 acquisitions across growing seasons\n",
    "   - Applied cloud masking and temporal interpolation for data gaps\n",
    "   - Optimized temporal sampling for phenological discrimination\n",
    "\n",
    "2. **Forest Inventory Integration**:\n",
    "   - Aligned satellite imagery with detailed forest inventory data\n",
    "   - Applied spatial aggregation to forest stand level (32x32 pixels)\n",
    "   - Integrated ground truth from national forest inventory programs\n",
    "\n",
    "3. **Quality Control and Filtering**:\n",
    "   - Filtered forest stands with mixed species or unclear boundaries\n",
    "   - Applied temporal completeness filtering for reliable species classification\n",
    "   - Maintained representation across all major European tree species\n",
    "\n",
    "4. **Split Generation**:\n",
    "   - Applied geographic clustering to prevent spatial autocorrelation\n",
    "   - Used forest region-based splitting for ecological independence\n",
    "   - Maintained species diversity and forest type representation across splits\n",
    "\n",
    "### Label Processing\n",
    "- **13-Class Species Classification**: Comprehensive European tree species identification\n",
    "- **Phenological Validation**: Species classification validated using seasonal patterns\n",
    "- **Forest Inventory Cross-Reference**: Labels validated against national forest inventory data"
   ]
  },
  {
   "cell_type": "markdown",
   "id": "41007651",
   "metadata": {},
   "source": [
    "## References\n",
    "\n",
    "1. Ahlswede, S., Schulz, C., Gava, C., Helber, P., Bischke, B., Förster, M., ... & Kleinschmit, B. (2023). TreeSatAI Benchmark Archive: A multi-sensor, multi-label dataset for tree species classification in remote sensing. *Earth System Science Data*, 15(2), 681-695.\n",
    "\n",
    "2. TreeSatAI Dataset: https://huggingface.co/datasets/IGNF/TreeSatAI-Time-Series\n",
    "\n",
    "3. Forest Species Classification: Immitzer, M., Atzberger, C., & Koukal, T. (2012). Tree species classification with random forest using very high spatial resolution 8-band WorldView-2 satellite data. *Remote Sensing*, 4(9), 2661-2693.\n",
    "\n",
    "4. Multi-Temporal Forest Monitoring: Pasquarella, V. J., Holden, C. E., Kaufman, L., & Woodcock, C. E. (2016). From imagery to ecology: leveraging time series of all available Landsat observations to map and monitor ecosystem state and dynamics. *Remote Sensing in Ecology and Conservation*, 2(3), 152-170."
   ]
  }
 ],
 "metadata": {
  "language_info": {
   "name": "python"
  }
 },
 "nbformat": 4,
 "nbformat_minor": 5
}
