{
 "cells": [
  {
   "cell_type": "markdown",
   "id": "e2784cdf",
   "metadata": {},
   "source": [
    "# SpaceNet2 Dataset\n",
    "\n",
    "## Intro\n",
    "\n",
    "SpaceNet2 [(van Etten et al. 2018)](https://arxiv.org/abs/1807.01232) is a building footprint extraction dataset using high-resolution satellite imagery from diverse global urban areas. The dataset provides very high-resolution optical imagery with precise building footprint annotations, enabling automated building detection and mapping for urban planning, disaster response, and infrastructure monitoring. It addresses the critical challenge of accurate building extraction across diverse architectural styles and urban development patterns."
   ]
  },
  {
   "cell_type": "markdown",
   "id": "3d585c3e",
   "metadata": {},
   "source": [
    "## Dataset Characteristics\n",
    "\n",
    "- **Modalities**: \n",
    "  - Very high-resolution satellite imagery\n",
    "- **Spatial Resolution**: 0.3m (pan-sharpened)\n",
    "- **Temporal Resolution**: Single acquisition per location\n",
    "- **Spectral Bands**: \n",
    "  - RGB: 3 channels (Red, Green, Blue)\n",
    "- **Image Dimensions**: 512x512 pixels per patch\n",
    "- **Labels**:\n",
    "  - Binary segmentation (building vs. non-building)\n",
    "- **Geographic Distribution**: Global urban areas (Las Vegas, Paris, Shanghai, Khartoum)"
   ]
  },
  {
   "cell_type": "markdown",
   "id": "bf5a369c",
   "metadata": {},
   "source": [
    "## Dataset Setup and Initialization"
   ]
  },
  {
   "cell_type": "code",
   "execution_count": null,
   "id": "ae36f98a",
   "metadata": {},
   "outputs": [],
   "source": [
    "from pathlib import Path\n",
    "from geobench_v2.datamodules import GeoBenchSpaceNet2DataModule\n",
    "\n",
    "# Setup paths\n",
    "PROJECT_ROOT = Path(\"../../\")\n",
    "\n",
    "# Initialize datamodule\n",
    "datamodule = GeoBenchSpaceNet2DataModule(\n",
    "    img_size=512,\n",
    "    batch_size=4,\n",
    "    num_workers=4,\n",
    "    root=PROJECT_ROOT / \"data\" / \"spacenet2\",\n",
    "    download=True,\n",
    ")\n",
    "datamodule.setup(\"fit\")\n",
    "datamodule.setup(\"test\")\n",
    "\n",
    "print(\"SpaceNet2 datamodule initialized successfully!\")\n",
    "print(f\"Training samples: {len(datamodule.train_dataset)}\")\n",
    "print(f\"Validation samples: {len(datamodule.val_dataset)}\")\n",
    "print(f\"Test samples: {len(datamodule.test_dataset)}\")"
   ]
  },
  {
   "cell_type": "markdown",
   "id": "c371d547",
   "metadata": {},
   "source": [
    "## Geographic Distribution Visualization\n",
    "\n",
    "The SpaceNet2 dataset covers diverse global urban areas, representing various architectural styles and urban development patterns:"
   ]
  },
  {
   "cell_type": "code",
   "execution_count": null,
   "id": "e24720eb",
   "metadata": {},
   "outputs": [],
   "source": [
    "geo_fig = datamodule.visualize_geospatial_distribution()"
   ]
  },
  {
   "cell_type": "markdown",
   "id": "598390d9",
   "metadata": {},
   "source": [
    "## Sample Data Visualization\n",
    "\n",
    "The dataset provides very high-resolution satellite imagery with precise building footprint segmentation for urban analysis:"
   ]
  },
  {
   "cell_type": "code",
   "execution_count": null,
   "id": "c74bd53e",
   "metadata": {},
   "outputs": [],
   "source": [
    "fig, batch = datamodule.visualize_batch()"
   ]
  },
  {
   "cell_type": "markdown",
   "id": "44b1ee11",
   "metadata": {},
   "source": [
    "## GeoBenchV2 Processing Pipeline\n",
    "\n",
    "### Preprocessing Steps\n",
    "\n",
    "1. **Split Generation**:\n",
    "   - For each of the four different AOIs, we chose a checkerboard style split, where the area extent over each AOI is overlayed with a grid (checkerboard) that determines which samples belong to each grid cell. Each grid cell is then either assigned to train/val/test such that the percentage distribution is roughly 70/10/20 across train/val/test\n",
    "\n",
    "2. **Dataset Subsampling**:\n",
    "    - The final version consists of\n",
    "        - 4,000 training samples\n",
    "        - 1,000 validation samples\n",
    "        - 2,000 test samples"
   ]
  },
  {
   "cell_type": "markdown",
   "id": "9493c313",
   "metadata": {},
   "source": [
    "## References\n",
    "\n",
    "1. Van Etten, A., Lindenbaum, D. and Bacastow, T.M., 2018. Spacenet: A remote sensing dataset and challenge series. arXiv preprint arXiv:1807.01232."
   ]
  }
 ],
 "metadata": {
  "language_info": {
   "name": "python"
  }
 },
 "nbformat": 4,
 "nbformat_minor": 5
}
