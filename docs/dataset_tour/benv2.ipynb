{
 "cells": [
  {
   "cell_type": "markdown",
   "metadata": {},
   "source": [
    "# GeoBench BigEarthNetV2"
   ]
  },
  {
   "cell_type": "markdown",
   "metadata": {},
   "source": []
  },
  {
   "cell_type": "code",
   "execution_count": 1,
   "metadata": {},
   "outputs": [
    {
     "name": "stderr",
     "output_type": "stream",
     "text": [
      "mkdir -p failed for path /home/toolkit/.cache/matplotlib: [Errno 13] Permission denied: '/home/toolkit/.cache/matplotlib'\n",
      "Matplotlib created a temporary cache directory at /tmp/matplotlib-tyncq8ln because there was an issue with the default path (/home/toolkit/.cache/matplotlib); it is highly recommended to set the MPLCONFIGDIR environment variable to a writable directory, in particular to speed up the import of Matplotlib and to better support multiprocessing.\n"
     ]
    }
   ],
   "source": [
    "import matplotlib.pyplot as plt"
   ]
  },
  {
   "cell_type": "code",
   "execution_count": 6,
   "metadata": {},
   "outputs": [],
   "source": [
    "from geobench_v2.datamodules import GeoBenchBENV2DataModule\n",
    "import tacoreader"
   ]
  },
  {
   "cell_type": "code",
   "execution_count": 5,
   "metadata": {},
   "outputs": [
    {
     "name": "stdout",
     "output_type": "stream",
     "text": [
      "Error processing file /mnt/rg_climate_benchmark/data/geobenchV2/benv2/FullBenV2.0002.part.tortilla: Could not open Parquet input source '<Buffer>': Parquet magic bytes not found in footer. Either the file is corrupted or this is not a parquet file.\n"
     ]
    },
    {
     "ename": "ValueError",
     "evalue": "Could not resolve band B4 for modality s2\nAvailable bands: Available bands:\n\ns2:\n  - B01 (coastal): coastal_aerosol, b01\n  - B02 (blue): b02, blue\n  - B03 (green): b03, green\n  - B04 (red): b04, red\n  - B05 (vegetation_red_edge_1): re1, b05\n  - B06 (vegetation_red_edge_2): re2, b06\n  - B07 (vegetation_red_edge_3): re3, b07\n  - B08 (nir): near_infrared, b08\n  - B8A (vegetation_red_edge_4): re4, b8a\n  - B09 (water_vapor): wv, b09\n  - B11 (swir1): short_wave_infrared_1, b11\n  - B12 (swir2): short_wave_infrared_2, b12\n\ns1:\n  - VV (vv): co_pol\n  - VH (vh): cross_pol",
     "output_type": "error",
     "traceback": [
      "\u001b[31m---------------------------------------------------------------------------\u001b[39m",
      "\u001b[31mValueError\u001b[39m                                Traceback (most recent call last)",
      "\u001b[36mCell\u001b[39m\u001b[36m \u001b[39m\u001b[32mIn[5]\u001b[39m\u001b[32m, line 13\u001b[39m\n\u001b[32m      1\u001b[39m band_order = {\n\u001b[32m      2\u001b[39m     \u001b[33m\"\u001b[39m\u001b[33ms2\u001b[39m\u001b[33m\"\u001b[39m: [\u001b[33m\"\u001b[39m\u001b[33mB4\u001b[39m\u001b[33m\"\u001b[39m, \u001b[33m\"\u001b[39m\u001b[33mB3\u001b[39m\u001b[33m\"\u001b[39m, \u001b[33m\"\u001b[39m\u001b[33mB2\u001b[39m\u001b[33m\"\u001b[39m, \u001b[32m1.5\u001b[39m],\n\u001b[32m      3\u001b[39m     \u001b[33m\"\u001b[39m\u001b[33ms1\u001b[39m\u001b[33m\"\u001b[39m: [\u001b[33m\"\u001b[39m\u001b[33mVV\u001b[39m\u001b[33m\"\u001b[39m, \u001b[33m\"\u001b[39m\u001b[33mVH\u001b[39m\u001b[33m\"\u001b[39m, \u001b[32m0.7\u001b[39m],\n\u001b[32m      4\u001b[39m }\n\u001b[32m      6\u001b[39m datamodule = GeoBenchBENV2DataModule(\n\u001b[32m      7\u001b[39m     img_size=\u001b[32m224\u001b[39m,\n\u001b[32m      8\u001b[39m     batch_size=\u001b[32m16\u001b[39m,\n\u001b[32m   (...)\u001b[39m\u001b[32m     11\u001b[39m     band_order=band_order,\n\u001b[32m     12\u001b[39m )\n\u001b[32m---> \u001b[39m\u001b[32m13\u001b[39m \u001b[43mdatamodule\u001b[49m\u001b[43m.\u001b[49m\u001b[43msetup\u001b[49m\u001b[43m(\u001b[49m\u001b[33;43m\"\u001b[39;49m\u001b[33;43mfit\u001b[39;49m\u001b[33;43m\"\u001b[39;49m\u001b[43m)\u001b[49m\n",
      "\u001b[36mFile \u001b[39m\u001b[32m/mnt/rg_climate_benchmark/code/nils/GEO-Bench-2/geobench_v2/datamodules/base.py:101\u001b[39m, in \u001b[36mGeoBenchDataModule.setup\u001b[39m\u001b[34m(self, stage)\u001b[39m\n\u001b[32m     96\u001b[39m \u001b[38;5;28mself\u001b[39m.train_transform, \u001b[38;5;28mself\u001b[39m.val_transform, \u001b[38;5;28mself\u001b[39m.test_transform = (\n\u001b[32m     97\u001b[39m     \u001b[38;5;28mself\u001b[39m.setup_image_size_transforms()\n\u001b[32m     98\u001b[39m )\n\u001b[32m    100\u001b[39m \u001b[38;5;28;01mif\u001b[39;00m stage \u001b[38;5;129;01min\u001b[39;00m [\u001b[33m\"\u001b[39m\u001b[33mfit\u001b[39m\u001b[33m\"\u001b[39m]:\n\u001b[32m--> \u001b[39m\u001b[32m101\u001b[39m     \u001b[38;5;28mself\u001b[39m.train_dataset = \u001b[38;5;28;43mself\u001b[39;49m\u001b[43m.\u001b[49m\u001b[43mdataset_class\u001b[49m\u001b[43m(\u001b[49m\n\u001b[32m    102\u001b[39m \u001b[43m        \u001b[49m\u001b[43msplit\u001b[49m\u001b[43m=\u001b[49m\u001b[33;43m\"\u001b[39;49m\u001b[33;43mtrain\u001b[39;49m\u001b[33;43m\"\u001b[39;49m\u001b[43m,\u001b[49m\n\u001b[32m    103\u001b[39m \u001b[43m        \u001b[49m\u001b[43mband_order\u001b[49m\u001b[43m=\u001b[49m\u001b[38;5;28;43mself\u001b[39;49m\u001b[43m.\u001b[49m\u001b[43mband_order\u001b[49m\u001b[43m,\u001b[49m\n\u001b[32m    104\u001b[39m \u001b[43m        \u001b[49m\u001b[43mtransforms\u001b[49m\u001b[43m=\u001b[49m\u001b[38;5;28;43mself\u001b[39;49m\u001b[43m.\u001b[49m\u001b[43mtrain_transform\u001b[49m\u001b[43m,\u001b[49m\n\u001b[32m    105\u001b[39m \u001b[43m        \u001b[49m\u001b[43m*\u001b[49m\u001b[43m*\u001b[49m\u001b[38;5;28;43mself\u001b[39;49m\u001b[43m.\u001b[49m\u001b[43mkwargs\u001b[49m\u001b[43m,\u001b[49m\n\u001b[32m    106\u001b[39m \u001b[43m    \u001b[49m\u001b[43m)\u001b[49m\n\u001b[32m    107\u001b[39m \u001b[38;5;28;01mif\u001b[39;00m stage \u001b[38;5;129;01min\u001b[39;00m [\u001b[33m\"\u001b[39m\u001b[33mfit\u001b[39m\u001b[33m\"\u001b[39m, \u001b[33m\"\u001b[39m\u001b[33mvalidate\u001b[39m\u001b[33m\"\u001b[39m]:\n\u001b[32m    108\u001b[39m     \u001b[38;5;28mself\u001b[39m.val_dataset = \u001b[38;5;28mself\u001b[39m.dataset_class(\n\u001b[32m    109\u001b[39m         split=\u001b[33m\"\u001b[39m\u001b[33mval\u001b[39m\u001b[33m\"\u001b[39m,\n\u001b[32m    110\u001b[39m         band_order=\u001b[38;5;28mself\u001b[39m.band_order,\n\u001b[32m    111\u001b[39m         transforms=\u001b[38;5;28mself\u001b[39m.val_transform,\n\u001b[32m    112\u001b[39m         **\u001b[38;5;28mself\u001b[39m.kwargs,\n\u001b[32m    113\u001b[39m     )\n",
      "\u001b[36mFile \u001b[39m\u001b[32m/mnt/rg_climate_benchmark/code/nils/GEO-Bench-2/geobench_v2/datasets/benv2.py:141\u001b[39m, in \u001b[36mGeoBenchBENV2.__init__\u001b[39m\u001b[34m(self, root, split, band_order, data_normalizer, transforms)\u001b[39m\n\u001b[32m    119\u001b[39m \u001b[38;5;28;01mdef\u001b[39;00m\u001b[38;5;250m \u001b[39m\u001b[34m__init__\u001b[39m(\n\u001b[32m    120\u001b[39m     \u001b[38;5;28mself\u001b[39m,\n\u001b[32m    121\u001b[39m     root: Path,\n\u001b[32m   (...)\u001b[39m\u001b[32m    125\u001b[39m     transforms: nn.Module | \u001b[38;5;28;01mNone\u001b[39;00m = \u001b[38;5;28;01mNone\u001b[39;00m,\n\u001b[32m    126\u001b[39m ) -> \u001b[38;5;28;01mNone\u001b[39;00m:\n\u001b[32m    127\u001b[39m \u001b[38;5;250m    \u001b[39m\u001b[33;03m\"\"\"Initialize Big Earth Net V2 Dataset.\u001b[39;00m\n\u001b[32m    128\u001b[39m \n\u001b[32m    129\u001b[39m \u001b[33;03m    Args:\u001b[39;00m\n\u001b[32m   (...)\u001b[39m\u001b[32m    139\u001b[39m \u001b[33;03m        **kwargs: Additional keyword arguments passed to ``BigEarthNetV2``\u001b[39;00m\n\u001b[32m    140\u001b[39m \u001b[33;03m    \"\"\"\u001b[39;00m\n\u001b[32m--> \u001b[39m\u001b[32m141\u001b[39m     \u001b[38;5;28;43msuper\u001b[39;49m\u001b[43m(\u001b[49m\u001b[43m)\u001b[49m\u001b[43m.\u001b[49m\u001b[34;43m__init__\u001b[39;49m\u001b[43m(\u001b[49m\n\u001b[32m    142\u001b[39m \u001b[43m        \u001b[49m\u001b[43mroot\u001b[49m\u001b[43m=\u001b[49m\u001b[43mroot\u001b[49m\u001b[43m,\u001b[49m\n\u001b[32m    143\u001b[39m \u001b[43m        \u001b[49m\u001b[43msplit\u001b[49m\u001b[43m=\u001b[49m\u001b[43msplit\u001b[49m\u001b[43m,\u001b[49m\n\u001b[32m    144\u001b[39m \u001b[43m        \u001b[49m\u001b[43mband_order\u001b[49m\u001b[43m=\u001b[49m\u001b[43mband_order\u001b[49m\u001b[43m,\u001b[49m\n\u001b[32m    145\u001b[39m \u001b[43m        \u001b[49m\u001b[43mdata_normalizer\u001b[49m\u001b[43m=\u001b[49m\u001b[43mdata_normalizer\u001b[49m\u001b[43m,\u001b[49m\n\u001b[32m    146\u001b[39m \u001b[43m        \u001b[49m\u001b[43mtransforms\u001b[49m\u001b[43m=\u001b[49m\u001b[43mtransforms\u001b[49m\u001b[43m,\u001b[49m\n\u001b[32m    147\u001b[39m \u001b[43m    \u001b[49m\u001b[43m)\u001b[49m\n\u001b[32m    149\u001b[39m     \u001b[38;5;28mself\u001b[39m.class2idx = {c: i \u001b[38;5;28;01mfor\u001b[39;00m i, c \u001b[38;5;129;01min\u001b[39;00m \u001b[38;5;28menumerate\u001b[39m(\u001b[38;5;28mself\u001b[39m.label_names)}\n",
      "\u001b[36mFile \u001b[39m\u001b[32m/mnt/rg_climate_benchmark/code/nils/GEO-Bench-2/geobench_v2/datasets/base.py:52\u001b[39m, in \u001b[36mGeoBenchBaseDataset.__init__\u001b[39m\u001b[34m(self, root, split, band_order, data_normalizer, transforms)\u001b[39m\n\u001b[32m     47\u001b[39m \u001b[38;5;28mself\u001b[39m.data_df = tacoreader.load([os.path.join(root, f) \u001b[38;5;28;01mfor\u001b[39;00m f \u001b[38;5;129;01min\u001b[39;00m \u001b[38;5;28mself\u001b[39m.paths])\n\u001b[32m     48\u001b[39m \u001b[38;5;28mself\u001b[39m.data_df = \u001b[38;5;28mself\u001b[39m.data_df[\n\u001b[32m     49\u001b[39m     \u001b[38;5;28mself\u001b[39m.data_df[\u001b[33m\"\u001b[39m\u001b[33mtortilla:data_split\u001b[39m\u001b[33m\"\u001b[39m] == split\n\u001b[32m     50\u001b[39m ].reset_index(drop=\u001b[38;5;28;01mTrue\u001b[39;00m)\n\u001b[32m---> \u001b[39m\u001b[32m52\u001b[39m \u001b[38;5;28mself\u001b[39m.band_order = \u001b[38;5;28;43mself\u001b[39;49m\u001b[43m.\u001b[49m\u001b[43mresolve_band_order\u001b[49m\u001b[43m(\u001b[49m\u001b[43mband_order\u001b[49m\u001b[43m)\u001b[49m\n\u001b[32m     54\u001b[39m \u001b[38;5;28mself\u001b[39m.data_normalizer = data_normalizer(\n\u001b[32m     55\u001b[39m     \u001b[38;5;28mself\u001b[39m.normalization_stats, \u001b[38;5;28mself\u001b[39m.band_order\n\u001b[32m     56\u001b[39m )\n",
      "\u001b[36mFile \u001b[39m\u001b[32m/mnt/rg_climate_benchmark/code/nils/GEO-Bench-2/geobench_v2/datasets/data_util.py:60\u001b[39m, in \u001b[36mDataUtilsMixin.resolve_band_order\u001b[39m\u001b[34m(self, band_order)\u001b[39m\n\u001b[32m     58\u001b[39m     resolved_band = \u001b[38;5;28mself\u001b[39m._resolve_in_config(band_spec, mod_config)\n\u001b[32m     59\u001b[39m     \u001b[38;5;28;01mif\u001b[39;00m resolved_band \u001b[38;5;129;01mis\u001b[39;00m \u001b[38;5;28;01mNone\u001b[39;00m:\n\u001b[32m---> \u001b[39m\u001b[32m60\u001b[39m         \u001b[38;5;28;01mraise\u001b[39;00m \u001b[38;5;167;01mValueError\u001b[39;00m(\n\u001b[32m     61\u001b[39m             \u001b[33mf\u001b[39m\u001b[33m\"\u001b[39m\u001b[33mCould not resolve band \u001b[39m\u001b[38;5;132;01m{\u001b[39;00mband_spec\u001b[38;5;132;01m}\u001b[39;00m\u001b[33m for modality \u001b[39m\u001b[38;5;132;01m{\u001b[39;00mmodality\u001b[38;5;132;01m}\u001b[39;00m\u001b[38;5;130;01m\\n\u001b[39;00m\u001b[33m\"\u001b[39m\n\u001b[32m     62\u001b[39m             \u001b[33mf\u001b[39m\u001b[33m\"\u001b[39m\u001b[33mAvailable bands: \u001b[39m\u001b[38;5;132;01m{\u001b[39;00m\u001b[38;5;28mself\u001b[39m._format_available_bands()\u001b[38;5;132;01m}\u001b[39;00m\u001b[33m\"\u001b[39m\n\u001b[32m     63\u001b[39m         )\n\u001b[32m     64\u001b[39m     resolved_bands.append(resolved_band)\n\u001b[32m     66\u001b[39m resolved[modality] = resolved_bands\n",
      "\u001b[31mValueError\u001b[39m: Could not resolve band B4 for modality s2\nAvailable bands: Available bands:\n\ns2:\n  - B01 (coastal): coastal_aerosol, b01\n  - B02 (blue): b02, blue\n  - B03 (green): b03, green\n  - B04 (red): b04, red\n  - B05 (vegetation_red_edge_1): re1, b05\n  - B06 (vegetation_red_edge_2): re2, b06\n  - B07 (vegetation_red_edge_3): re3, b07\n  - B08 (nir): near_infrared, b08\n  - B8A (vegetation_red_edge_4): re4, b8a\n  - B09 (water_vapor): wv, b09\n  - B11 (swir1): short_wave_infrared_1, b11\n  - B12 (swir2): short_wave_infrared_2, b12\n\ns1:\n  - VV (vv): co_pol\n  - VH (vh): cross_pol"
     ]
    }
   ],
   "source": [
    "band_order = {\"s2\": [\"B4\", \"B3\", \"B2\", 1.5], \"s1\": [\"VV\", \"VH\", 0.7]}\n",
    "\n",
    "datamodule = GeoBenchBENV2DataModule(\n",
    "    img_size=224,\n",
    "    batch_size=16,\n",
    "    num_workers=4,\n",
    "    root=\"/mnt/rg_climate_benchmark/data/geobenchV2/benv2\",\n",
    "    band_order=band_order,\n",
    ")\n",
    "datamodule.setup(\"fit\")"
   ]
  }
 ],
 "metadata": {
  "kernelspec": {
   "display_name": "dofaEnv",
   "language": "python",
   "name": "python3"
  },
  "language_info": {
   "codemirror_mode": {
    "name": "ipython",
    "version": 3
   },
   "file_extension": ".py",
   "mimetype": "text/x-python",
   "name": "python",
   "nbconvert_exporter": "python",
   "pygments_lexer": "ipython3",
   "version": "3.12.9"
  }
 },
 "nbformat": 4,
 "nbformat_minor": 2
}
