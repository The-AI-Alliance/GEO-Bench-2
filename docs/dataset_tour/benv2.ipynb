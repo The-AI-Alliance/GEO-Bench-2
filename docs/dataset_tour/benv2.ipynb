{
 "cells": [
  {
   "cell_type": "markdown",
   "metadata": {},
   "source": [
    "# GeoBench BigEarthNetV2"
   ]
  },
  {
   "cell_type": "markdown",
   "metadata": {},
   "source": []
  },
  {
   "cell_type": "code",
   "execution_count": 1,
   "metadata": {},
   "outputs": [
    {
     "name": "stderr",
     "output_type": "stream",
     "text": [
      "mkdir -p failed for path /home/toolkit/.cache/matplotlib: [Errno 13] Permission denied: '/home/toolkit/.cache/matplotlib'\n",
      "Matplotlib created a temporary cache directory at /tmp/matplotlib-5wseur_d because there was an issue with the default path (/home/toolkit/.cache/matplotlib); it is highly recommended to set the MPLCONFIGDIR environment variable to a writable directory, in particular to speed up the import of Matplotlib and to better support multiprocessing.\n"
     ]
    }
   ],
   "source": [
    "import matplotlib.pyplot as plt"
   ]
  },
  {
   "cell_type": "code",
   "execution_count": 5,
   "metadata": {},
   "outputs": [],
   "source": [
    "from geobench_v2.datamodules import GeoBenchBENV2DataModule\n",
    "import tacoreader"
   ]
  },
  {
   "cell_type": "code",
   "execution_count": 6,
   "metadata": {},
   "outputs": [],
   "source": [
    "band_order = {\"s2\": [\"B04\", \"B03\", \"B02\", 1.5], \"s1\": [\"VV\", \"VH\", 0.7]}\n",
    "\n",
    "datamodule = GeoBenchBENV2DataModule(\n",
    "    img_size=224,\n",
    "    batch_size=16,\n",
    "    num_workers=4,\n",
    "    root=\"/mnt/rg_climate_benchmark/data/geobenchV2/benv2\",\n",
    "    band_order=band_order,\n",
    ")\n",
    "datamodule.setup(\"fit\")"
   ]
  },
  {
   "cell_type": "code",
   "execution_count": 7,
   "metadata": {},
   "outputs": [
    {
     "ename": "AttributeError",
     "evalue": "'GeoBenchBENV2DataModule' object has no attribute 'visualize_geospatial_distribution'",
     "output_type": "error",
     "traceback": [
      "\u001b[31m---------------------------------------------------------------------------\u001b[39m",
      "\u001b[31mAttributeError\u001b[39m                            Traceback (most recent call last)",
      "\u001b[36mCell\u001b[39m\u001b[36m \u001b[39m\u001b[32mIn[7]\u001b[39m\u001b[32m, line 1\u001b[39m\n\u001b[32m----> \u001b[39m\u001b[32m1\u001b[39m \u001b[43mdatamodule\u001b[49m\u001b[43m.\u001b[49m\u001b[43mvisualize_geospatial_distribution\u001b[49m()\n",
      "\u001b[31mAttributeError\u001b[39m: 'GeoBenchBENV2DataModule' object has no attribute 'visualize_geospatial_distribution'"
     ]
    }
   ],
   "source": [
    "datamodule.visualize_geospatial_distribution()"
   ]
  }
 ],
 "metadata": {
  "kernelspec": {
   "display_name": "dofaEnv",
   "language": "python",
   "name": "python3"
  },
  "language_info": {
   "codemirror_mode": {
    "name": "ipython",
    "version": 3
   },
   "file_extension": ".py",
   "mimetype": "text/x-python",
   "name": "python",
   "nbconvert_exporter": "python",
   "pygments_lexer": "ipython3",
   "version": "3.12.9"
  }
 },
 "nbformat": 4,
 "nbformat_minor": 2
}
