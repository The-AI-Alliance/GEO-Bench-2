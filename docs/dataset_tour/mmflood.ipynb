{
 "cells": [
  {
   "cell_type": "markdown",
   "id": "d6f9ac5b",
   "metadata": {},
   "source": [
    "# MMFlood Dataset\n",
    "\n",
    "## Intro\n",
    "\n",
    "MMFlood is a comprehensive multi-modal dataset for flood detection and monitoring using satellite imagery. The dataset combines optical and SAR observations to enable robust flood mapping across different weather conditions and temporal scales. It addresses the critical challenge of rapid flood detection for disaster response, risk assessment, and emergency management applications, providing all-weather monitoring capabilities essential for timely flood response."
   ]
  },
  {
   "cell_type": "markdown",
   "id": "5b70db39",
   "metadata": {},
   "source": [
    "## Dataset Characteristics\n",
    "\n",
    "- **Modalities**: \n",
    "  - Sentinel-1 SAR imagery (C-band)\n",
    "  - Sentinel-2 optical imagery\n",
    "- **Spatial Resolution**: 10m (harmonized across sensors)\n",
    "- **Temporal Resolution**: Pre- and post-flood event pairs\n",
    "- **Spectral Bands**: \n",
    "  - S1: VV and VH polarizations\n",
    "  - S2: 10 bands (B02, B03, B04, B05, B06, B07, B08, B8A, B11, B12)\n",
    "- **Image Dimensions**: 512x512 pixels per patch\n",
    "- **Labels**: Binary flood segmentation masks\n",
    "  - Flooded vs. non-flooded areas\n",
    "  - Permanent water body exclusion\n",
    "- **Geographic Distribution**: Global coverage of major flood events\n",
    "- **Temporal Coverage**: Multi-year flood events (2016-2021)\n",
    "- **Event Types**: River floods, coastal floods, flash floods"
   ]
  },
  {
   "cell_type": "markdown",
   "id": "e2a51316",
   "metadata": {},
   "source": [
    "## Dataset Setup and Initialization"
   ]
  },
  {
   "cell_type": "code",
   "execution_count": null,
   "id": "4c5dce83",
   "metadata": {},
   "outputs": [],
   "source": [
    "from pathlib import Path\n",
    "from geobench_v2.datamodules import GeoBenchMMFloodDataModule\n",
    "\n",
    "# Setup paths\n",
    "PROJECT_ROOT = Path(\"../../\")\n",
    "\n",
    "# Initialize datamodule\n",
    "datamodule = GeoBenchMMFloodDataModule(\n",
    "    img_size=512,\n",
    "    batch_size=4,\n",
    "    num_workers=4,\n",
    "    root=PROJECT_ROOT / \"data\" / \"mmflood\",\n",
    "    download=True\n",
    ")\n",
    "datamodule.setup(\"fit\")\n",
    "datamodule.setup(\"test\")\n",
    "\n",
    "print(\"MMFlood datamodule initialized successfully!\")\n",
    "print(f\"Training samples: {len(datamodule.train_dataset)}\")\n",
    "print(f\"Validation samples: {len(datamodule.val_dataset)}\")\n",
    "print(f\"Test samples: {len(datamodule.test_dataset)}\")"
   ]
  },
  {
   "cell_type": "markdown",
   "id": "5aa59035",
   "metadata": {},
   "source": [
    "## Geographic Distribution Visualization\n",
    "\n",
    "The MMFlood dataset provides global coverage of major flood events, representing diverse hydrological and climatic conditions:"
   ]
  },
  {
   "cell_type": "code",
   "execution_count": null,
   "id": "f92d1054",
   "metadata": {},
   "outputs": [],
   "source": [
    "geo_fig = datamodule.visualize_geospatial_distribution()"
   ]
  },
  {
   "cell_type": "markdown",
   "id": "07267f8b",
   "metadata": {},
   "source": [
    "## Sample Data Visualization\n",
    "\n",
    "The dataset provides multi-modal satellite imagery with precise flood segmentation for disaster monitoring and emergency response:"
   ]
  },
  {
   "cell_type": "code",
   "execution_count": null,
   "id": "727701d6",
   "metadata": {},
   "outputs": [],
   "source": [
    "fig, batch = datamodule.visualize_batch()"
   ]
  },
  {
   "cell_type": "markdown",
   "id": "1b2e56ed",
   "metadata": {},
   "source": [
    "## GeoBenchV2 Processing Pipeline\n",
    "\n",
    "### Preprocessing Steps\n",
    "\n",
    "1. **Multi-Modal Data Fusion**:\n",
    "   - Co-registered Sentinel-1 SAR and Sentinel-2 optical imagery\n",
    "   - Applied geometric correction and temporal alignment\n",
    "   - Harmonized spatial resolution to 10m common grid\n",
    "\n",
    "2. **Flood Event Processing**:\n",
    "   - Identified pre-flood and post-flood image pairs\n",
    "   - Applied change detection algorithms for flood mapping\n",
    "   - Integrated permanent water body masks for accurate flood delineation\n",
    "\n",
    "3. **Quality Control and Filtering**:\n",
    "   - Filtered images with excessive cloud cover in optical data\n",
    "   - Applied temporal consistency checks for flood persistence\n",
    "   - Maintained diversity across different flood types and magnitudes\n",
    "\n",
    "4. **Split Generation**:\n",
    "   - Applied event-based splitting to prevent temporal data leakage\n",
    "   - Used geographic clustering for spatial independence\n",
    "   - Maintained flood type diversity across train/validation/test splits\n",
    "\n",
    "### Label Processing\n",
    "- **Binary Flood Segmentation**: Precise flood boundary delineation for emergency response\n",
    "- **Multi-Modal Validation**: Flood maps validated using both SAR and optical observations\n",
    "- **Expert Validation**: Flood extent validated by hydrological and disaster management experts"
   ]
  },
  {
   "cell_type": "markdown",
   "id": "b70e6f21",
   "metadata": {},
   "source": [
    "## References\n",
    "\n",
    "1. Bonafilia, D., Tellman, B., Anderson, T., & Issenberg, E. (2020). Sen1Floods11: A georeferenced dataset to train and test deep learning flood algorithms for Sentinel-1. *Proceedings of the IEEE/CVF Conference on Computer Vision and Pattern Recognition Workshops*, 210-211.\n",
    "\n",
    "2. Flood Mapping with SAR: Martinis, S., Kersten, J., & Twele, A. (2015). A fully automated TerraSAR-X based flood service. *ISPRS Journal of Photogrammetry and Remote Sensing*, 104, 203-212.\n",
    "\n",
    "3. Multi-Modal Flood Detection: Kang, W., Xiang, Y., Wang, F., & You, H. (2018). EU-Net: An efficient fully convolutional network for building extraction from optical remote sensing images. *Remote Sensing*, 10(2), 305.\n",
    "\n",
    "4. Disaster Management: Joyce, K. E., Belliss, S. E., Samsonov, S. V., McNeill, S. J., & Glassey, P. J. (2009). A review of the status of satellite remote sensing and image processing techniques for mapping natural hazards and disasters. *Progress in Physical Geography*, 33(2), 183-207."
   ]
  }
 ],
 "metadata": {
  "language_info": {
   "name": "python"
  }
 },
 "nbformat": 4,
 "nbformat_minor": 5
}
