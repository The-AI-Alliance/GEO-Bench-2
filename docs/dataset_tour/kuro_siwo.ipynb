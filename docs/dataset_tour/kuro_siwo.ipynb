{
 "cells": [
  {
   "cell_type": "markdown",
   "id": "2500fe85",
   "metadata": {},
   "source": [
    "# KuroSiwo Flood Mapping Dataset\n",
    "\n",
    "## Intro\n",
    "\n",
    "KuroSiwo [(Bountos et al. 2024)](https://proceedings.neurips.cc/paper_files/paper/2024/hash/43612b0662cb6a4986edf859fd6ebafe-Abstract-Datasets_and_Benchmarks_Track.html) is a comprehensive multi-temporal satellite dataset designed for rapid flood detection and monitoring using Synthetic Aperture Radar (SAR) imagery. The dataset combines SAR Ground Range Detected products with Single Look Complex data featuring minimal preprocessing, enabling researchers to leverage both phase and amplitude information for downstream flood mapping applications and algorithm development."
   ]
  },
  {
   "cell_type": "markdown",
   "id": "cb26a63a",
   "metadata": {},
   "source": [
    "## Dataset Characteristics\n",
    "\n",
    "- **Modalities**: \n",
    "  - Sentinel-1 SAR imagery (VV and VH polarizations)\n",
    "  - Digital Elevation Model (DEM) auxiliary data\n",
    "  - Slope auxiliary data derived from DEM\n",
    "- **Spatial Resolution**: 10m ground sample distance\n",
    "- **Temporal Resolution**: Multi-temporal observations (pre-event, event, post-event)\n",
    "- **Spectral Bands**: \n",
    "  - SAR VV polarization\n",
    "  - SAR VH polarization\n",
    "- **Image Dimensions**: Variable patch sizes (typically 256x256 to 512x512 pixels)\n",
    "- **Labels**: 4-class flood segmentation masks\n",
    "  - Class 0: No-Water\n",
    "  - Class 1: Permanent Water\n",
    "  - Class 2: Flood Water \n",
    "  - Class 3: Invalid/No-dat\n",
    "- **Geographic Distribution**: Multiple Areas of Interest (AOIs) across different flood-prone regions"
   ]
  },
  {
   "cell_type": "markdown",
   "id": "8ef647b8",
   "metadata": {},
   "source": [
    "## Dataset Setup and Initialization"
   ]
  },
  {
   "cell_type": "code",
   "execution_count": null,
   "id": "479d9782",
   "metadata": {},
   "outputs": [],
   "source": [
    "from pathlib import Path\n",
    "from geobench_v2.datamodules import GeoBenchKuroSiwoDataModule\n",
    "\n",
    "# Setup paths\n",
    "PROJECT_ROOT = Path(\"../../\")\n",
    "\n",
    "# Initialize datamodule\n",
    "datamodule = GeoBenchKuroSiwoDataModule(\n",
    "    img_size=256,\n",
    "    batch_size=8,\n",
    "    num_workers=4,\n",
    "    root=PROJECT_ROOT / \"data\" / \"kuro_siwo\",\n",
    "    download=True\n",
    ")\n",
    "datamodule.setup(\"fit\")\n",
    "datamodule.setup(\"test\")\n",
    "\n",
    "print(\"Kuro-Siwo datamodule initialized successfully!\")\n",
    "print(f\"Training samples: {len(datamodule.train_dataset)}\")\n",
    "print(f\"Validation samples: {len(datamodule.val_dataset)}\")\n",
    "print(f\"Test samples: {len(datamodule.test_dataset)}\")"
   ]
  },
  {
   "cell_type": "markdown",
   "id": "b02d7677",
   "metadata": {},
   "source": [
    "## Geographic Distribution Visualization\n"
   ]
  },
  {
   "cell_type": "code",
   "execution_count": null,
   "id": "3b3f3ef1",
   "metadata": {},
   "outputs": [],
   "source": [
    "geo_fig = datamodule.visualize_geospatial_distribution()"
   ]
  },
  {
   "cell_type": "markdown",
   "id": "30f82b49",
   "metadata": {},
   "source": [
    "## Sample Data Visualization"
   ]
  },
  {
   "cell_type": "code",
   "execution_count": null,
   "id": "26f2ca5e",
   "metadata": {},
   "outputs": [],
   "source": [
    "fig, batch = datamodule.visualize_batch()"
   ]
  },
  {
   "cell_type": "markdown",
   "id": "ace3a406",
   "metadata": {},
   "source": [
    "## GeoBenchV2 Processing Pipeline\n",
    "\n",
    "### Preprocessing Steps\n",
    "\n",
    "1. **Split Generation**:\n",
    "   - Use referenced train/val/test splits from the original dataset\n",
    "\n",
    "2. **Dataset Subsampling**:\n",
    "    - The final version consists of\n",
    "        - 4,000 training samples\n",
    "        - 1,000 validation samples\n",
    "        - 2,000 test samples"
   ]
  },
  {
   "cell_type": "markdown",
   "id": "abafa8ff",
   "metadata": {},
   "source": [
    "## References\n",
    "\n",
    "1. Bountos, N.I., Sdraka, M., Zavras, A., Karavias, A., Karasante, I., Herekakis, T., Thanasou, A., Michail, D. and Papoutsis, I., 2024. Kuro Siwo: 33 billion $ m^ 2$ under the water. A global multi-temporal satellite dataset for rapid flood mapping. Advances in Neural Information Processing Systems, 37, pp.38105-38121. https://proceedings.neurips.cc/paper_files/paper/2024/hash/43612b0662cb6a4986edf859fd6ebafe-Abstract-Datasets_and_Benchmarks_Track.html"
   ]
  }
 ],
 "metadata": {
  "language_info": {
   "name": "python"
  }
 },
 "nbformat": 4,
 "nbformat_minor": 5
}
