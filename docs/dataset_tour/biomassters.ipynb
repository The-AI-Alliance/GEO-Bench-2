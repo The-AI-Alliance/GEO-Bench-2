{
 "cells": [
  {
   "cell_type": "markdown",
   "metadata": {},
   "source": [
    "# GeoBench BioMassters"
   ]
  },
  {
   "cell_type": "markdown",
   "metadata": {},
   "source": []
  },
  {
   "cell_type": "code",
   "execution_count": 1,
   "metadata": {},
   "outputs": [
    {
     "name": "stderr",
     "output_type": "stream",
     "text": [
      "WARNING:matplotlib:mkdir -p failed for path /home/toolkit/.cache/matplotlib: [Errno 13] Permission denied: '/home/toolkit/.cache/matplotlib'\n",
      "WARNING:matplotlib:Matplotlib created a temporary cache directory at /tmp/matplotlib-0bsb960_ because there was an issue with the default path (/home/toolkit/.cache/matplotlib); it is highly recommended to set the MPLCONFIGDIR environment variable to a writable directory, in particular to speed up the import of Matplotlib and to better support multiprocessing.\n",
      "INFO:matplotlib.font_manager:generated new fontManager\n"
     ]
    }
   ],
   "source": [
    "from geobench_v2.datamodules import GeoBenchBioMasstersDataModule"
   ]
  },
  {
   "cell_type": "code",
   "execution_count": 3,
   "metadata": {},
   "outputs": [],
   "source": [
    "band_order = {\"s1\": [\"VV_asc\", \"VH_asc\"], \"s2\": [\"B04\", \"B03\", \"B02\"]}\n",
    "\n",
    "datamodule = GeoBenchBioMasstersDataModule(\n",
    "    img_size=128,\n",
    "    batch_size=16,\n",
    "    num_workers=4,\n",
    "    root=\"/mnt/rg_climate_benchmark/data/geobenchV2/biomassters\",\n",
    "    band_order=band_order,\n",
    ")\n",
    "datamodule.setup(\"fit\")"
   ]
  }
 ],
 "metadata": {
  "kernelspec": {
   "display_name": "dofaEnv",
   "language": "python",
   "name": "python3"
  },
  "language_info": {
   "codemirror_mode": {
    "name": "ipython",
    "version": 3
   },
   "file_extension": ".py",
   "mimetype": "text/x-python",
   "name": "python",
   "nbconvert_exporter": "python",
   "pygments_lexer": "ipython3",
   "version": "3.12.9"
  }
 },
 "nbformat": 4,
 "nbformat_minor": 2
}
